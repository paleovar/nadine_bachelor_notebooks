{
 "cells": [
  {
   "cell_type": "code",
   "execution_count": 7,
   "metadata": {
    "scrolled": true
   },
   "outputs": [],
   "source": [
    "import numpy as np\n",
    "import matplotlib\n",
    "import matplotlib.pyplot as plt\n",
    "from netCDF4 import Dataset\n",
    "\n",
    "import matplotlib.image as mpimg\n",
    "from matplotlib import cm\n",
    "import matplotlib.animation as ani\n",
    "from scipy.integrate import odeint\n",
    "import pandas as pd\n",
    "import copy\n",
    "\n",
    "from sklearn.ensemble import RandomForestRegressor\n",
    "from sklearn.tree import DecisionTreeRegressor\n",
    "\n",
    "from sklearn.decomposition import PCA\n",
    "from sklearn.linear_model import LinearRegression\n",
    "from sklearn.preprocessing import StandardScaler\n",
    "from sklearn.metrics import mean_absolute_error\n",
    "from sklearn.metrics import mean_squared_error\n",
    "\n",
    "from keras.models import Sequential\n",
    "from keras.layers import Dense\n",
    "from keras.optimizers import SGD\n",
    "\n",
    "import keras\n",
    "\n",
    "%matplotlib inline"
   ]
  },
  {
   "cell_type": "code",
   "execution_count": 8,
   "metadata": {},
   "outputs": [],
   "source": [
    "isotopes = Dataset('climatology/xnapa_isotopes.nc', \"a\")\n",
    "precipitation = Dataset('climatology/xnapa_precip.nc', \"a\")\n",
    "surface_temperature = Dataset('climatology/xnapa_temp.nc', \"a\")"
   ]
  },
  {
   "cell_type": "code",
   "execution_count": 9,
   "metadata": {},
   "outputs": [],
   "source": [
    "lat = isotopes.variables[\"latitude\"][:].data[1:-1]\n",
    "long = isotopes.variables[\"longitude\"][:].data\n",
    "t = isotopes.variables[\"t\"][:].data\n",
    "\n",
    "trash = [626, 0]"
   ]
  },
  {
   "cell_type": "code",
   "execution_count": 10,
   "metadata": {},
   "outputs": [],
   "source": [
    "do18 = []\n",
    "precip = []\n",
    "temp = []\n",
    "for i in range(len(t)):\n",
    "    do18.append(isotopes.variables[\"dO18\"][i][0].data[1:-1].reshape(71*96))\n",
    "    precip.append(precipitation.variables[\"precip\"][i][0].data[1:-1].reshape(71*96))\n",
    "    temp.append(surface_temperature.variables[\"temp_1\"][i][0].data[1:-1].reshape(71*96))\n",
    "    \n",
    "do18 = pd.DataFrame(np.delete(np.delete(np.asarray(do18), 0, 0), 626, 0)[:1000])\n",
    "precip = pd.DataFrame(np.delete(np.delete(np.asarray(precip), 0, 0), 626, 0)[:1000])\n",
    "temp = pd.DataFrame(np.delete(np.delete(np.asarray(temp), 0, 0), 626, 0)[:1000])"
   ]
  },
  {
   "cell_type": "code",
   "execution_count": null,
   "metadata": {},
   "outputs": [],
   "source": [
    "def divide_data(temp: pd.DataFrame, precip: pd.DataFrame, do18: pd.DataFrame, train=0.9, random=True):\n",
    "    \n",
    "    if random:\n",
    "        random_idx = np.random.permutation(do18.index.values)\n",
    "    \n",
    "        temp = temp.reindex(random_idx)\n",
    "        precip = precip.reindex(random_idx)\n",
    "        do18 = do18.reindex(random_idx)\n",
    "    \n",
    "    #divide training and test data\n",
    "    do18_train = do18[:int(np.floor(train*len(do18)))].reset_index(drop=True)\n",
    "    do18_test = do18[int(np.floor(train*len(do18))):].reset_index(drop=True)\n",
    "\n",
    "    temp_train = temp[:int(np.floor(train*len(temp)))].reset_index(drop=True)\n",
    "    temp_test = temp[int(np.floor(train*len(temp))):].reset_index(drop=True)\n",
    "\n",
    "    precip_train = precip[:int(np.floor(train*len(precip)))].reset_index(drop=True)\n",
    "    precip_test = precip[int(np.floor(train*len(precip))):].reset_index(drop=True)\n",
    "    \n",
    "    return do18_train, do18_test, temp_train, temp_test, precip_train, precip_test"
   ]
  },
  {
   "cell_type": "code",
   "execution_count": 11,
   "metadata": {},
   "outputs": [],
   "source": [
    "def ann_pca(temp, precip, do18, n_temp=20, n_precip=20, n_y=20, train_proportion=0.9, random=True):\n",
    "    \n",
    "    do18_train, do18_test, temp_train, temp_test, precip_train, precip_test = divide_data(\n",
    "        temp, precip, do18, train_proportion, random\n",
    "    )\n",
    "    \n",
    "    #define scalers\n",
    "    scaler_temp = StandardScaler().fit(temp)\n",
    "    scaler_precip = StandardScaler().fit(precip)\n",
    "    scaler_do18 = StandardScaler().fit(do18)\n",
    "    \n",
    "    #scale data\n",
    "    do18_train_scaler = scaler_do18.transform(do18_train)\n",
    "    do18_test_scaler = scaler_do18.transform(do18_test)\n",
    "\n",
    "    temp_train_scaler = scaler_temp.transform(temp_train)\n",
    "    temp_test_scaler = scaler_temp.transform(temp_test)\n",
    "\n",
    "    precip_train_scaler = scaler_precip.transform(precip_train)\n",
    "    precip_test_scaler = scaler_precip.transform(precip_test)\n",
    "    \n",
    "    #define pcas and fit data\n",
    "    pca_temp = PCA(n_components=n_temp).fit(np.append(temp_train_scaler, temp_test_scaler, axis=0))\n",
    "    pca_precip = PCA(n_components=n_precip).fit(np.append(precip_train_scaler, precip_test_scaler, axis=0))\n",
    "    pca_do18 = PCA(n_components=n_y).fit(np.append(do18_train_scaler, do18_test_scaler, axis=0))\n",
    "    \n",
    "    #transform data\n",
    "    do18_train_pc = pca_do18.transform(do18_train_scaler)\n",
    "    do18_test_pc = pca_do18.transform(do18_test_scaler)\n",
    "\n",
    "    temp_train_pc = pca_temp.transform(temp_train_scaler)\n",
    "    temp_test_pc = pca_temp.transform(temp_test_scaler)\n",
    "\n",
    "    precip_train_pc = pca_precip.transform(precip_train_scaler)\n",
    "    precip_test_pc = pca_precip.transform(precip_test_scaler)\n",
    "    \n",
    "    \n",
    "    #####################################################################\n",
    "    \n",
    "    \n",
    "    X_train = np.append(temp_train_pc, precip_train_pc, axis=1)+100\n",
    "    X_test = np.append(temp_test_pc, precip_test_pc, axis=1)+100\n",
    "\n",
    "    Y_train = do18_train_pc+100\n",
    "    Y_test = do18_test_pc+100\n",
    "\n",
    "    Y = pd.DataFrame(np.append(Y_train, Y_test, axis=0))-100\n",
    "    \n",
    "    \n",
    "    #train model\n",
    "    \n",
    "    model = Sequential()\n",
    "    model.add(Dense(2*(n_temp+n_precip), input_dim=n_temp+n_precip, activation='relu'))\n",
    "    model.add(Dense(2*(n_temp+n_precip), activation='relu'))\n",
    "    model.add(Dense(2*(n_temp+n_precip), activation='relu'))\n",
    "    model.add(Dense(2*(n_temp+n_precip), activation='relu'))\n",
    "    model.add(Dense(n_y, activation='linear'))\n",
    "\n",
    "    model.compile(loss='mean_squared_error', optimizer=\"adam\")\n",
    "\n",
    "    history = model.fit(X_train, Y_train, validation_data=(X_test, Y_test), epochs=200, verbose=0, batch_size=10)\n",
    "    \n",
    "    ####################################################################\n",
    "    \n",
    "    #predict test data\n",
    "    pred_pc = pd.DataFrame(model.predict(X_test)-100)\n",
    "    pred_norm = pd.DataFrame(pca_do18.inverse_transform(pred_pc))\n",
    "    pred = pd.DataFrame(scaler_do18.inverse_transform(pred_norm))\n",
    "    \n",
    "    \n",
    "    #return pca and final data\n",
    "    return pred_pc, pred_norm, pred, do18_test_pc, pd.DataFrame(do18_test_scaler), do18_test"
   ]
  },
  {
   "cell_type": "code",
   "execution_count": 12,
   "metadata": {},
   "outputs": [
    {
     "name": "stdout",
     "output_type": "stream",
     "text": [
      "WARNING:tensorflow:From /home/nadine/.local/lib/python3.7/site-packages/keras/backend/tensorflow_backend.py:422: The name tf.global_variables is deprecated. Please use tf.compat.v1.global_variables instead.\n",
      "\n"
     ]
    }
   ],
   "source": [
    "pred_pc, pred_norm, pred, Y_test, do18_test_scaler, do18_test = ann_pca(temp, precip, do18, n_temp=20, n_precip=20, n_y=20)"
   ]
  },
  {
   "cell_type": "markdown",
   "metadata": {},
   "source": [
    "## Sign correlation"
   ]
  },
  {
   "cell_type": "code",
   "execution_count": 13,
   "metadata": {},
   "outputs": [],
   "source": [
    "def calculate_sign_correlation(pred_norm, do18_test_scaler):\n",
    "    sign_correlation = np.heaviside(pred_norm*do18_test_scaler, 0) \n",
    "    return sign_correlation"
   ]
  },
  {
   "cell_type": "code",
   "execution_count": 14,
   "metadata": {},
   "outputs": [],
   "source": [
    "sign_correlation_total = calculate_sign_correlation(pred_norm, do18_test_scaler)"
   ]
  },
  {
   "cell_type": "code",
   "execution_count": 15,
   "metadata": {
    "scrolled": true
   },
   "outputs": [
    {
     "name": "stdout",
     "output_type": "stream",
     "text": [
      "0\n",
      "1\n",
      "2\n",
      "3\n",
      "4\n",
      "5\n",
      "6\n",
      "7\n",
      "8\n",
      "9\n",
      "10\n",
      "11\n",
      "12\n",
      "13\n",
      "14\n",
      "15\n",
      "16\n",
      "17\n",
      "18\n",
      "19\n"
     ]
    }
   ],
   "source": [
    "for i in range(20):\n",
    "    print(i)\n",
    "    pred_pc, pred_norm, pred, Y_test, do18_test_scaler, do18_test = ann_pca(temp, precip, do18, n_temp=20, n_precip=20, n_y=20)\n",
    "    corr = calculate_sign_correlation(pred_norm, do18_test_scaler)\n",
    "    sign_correlation_total = sign_correlation_total.append(corr)\n",
    "sign_correlation_total = sign_correlation_total.reset_index(drop=True)"
   ]
  },
  {
   "cell_type": "code",
   "execution_count": 16,
   "metadata": {},
   "outputs": [],
   "source": [
    "sign_correlation_total = sign_correlation_total.reset_index(drop=True)"
   ]
  },
  {
   "cell_type": "code",
   "execution_count": 17,
   "metadata": {
    "scrolled": true
   },
   "outputs": [
    {
     "data": {
      "text/html": [
       "<div>\n",
       "<style scoped>\n",
       "    .dataframe tbody tr th:only-of-type {\n",
       "        vertical-align: middle;\n",
       "    }\n",
       "\n",
       "    .dataframe tbody tr th {\n",
       "        vertical-align: top;\n",
       "    }\n",
       "\n",
       "    .dataframe thead th {\n",
       "        text-align: right;\n",
       "    }\n",
       "</style>\n",
       "<table border=\"1\" class=\"dataframe\">\n",
       "  <thead>\n",
       "    <tr style=\"text-align: right;\">\n",
       "      <th></th>\n",
       "      <th>0</th>\n",
       "      <th>1</th>\n",
       "      <th>2</th>\n",
       "      <th>3</th>\n",
       "      <th>4</th>\n",
       "      <th>5</th>\n",
       "      <th>6</th>\n",
       "      <th>7</th>\n",
       "      <th>8</th>\n",
       "      <th>9</th>\n",
       "      <th>...</th>\n",
       "      <th>6806</th>\n",
       "      <th>6807</th>\n",
       "      <th>6808</th>\n",
       "      <th>6809</th>\n",
       "      <th>6810</th>\n",
       "      <th>6811</th>\n",
       "      <th>6812</th>\n",
       "      <th>6813</th>\n",
       "      <th>6814</th>\n",
       "      <th>6815</th>\n",
       "    </tr>\n",
       "  </thead>\n",
       "  <tbody>\n",
       "    <tr>\n",
       "      <td>0</td>\n",
       "      <td>1.0</td>\n",
       "      <td>1.0</td>\n",
       "      <td>1.0</td>\n",
       "      <td>1.0</td>\n",
       "      <td>1.0</td>\n",
       "      <td>1.0</td>\n",
       "      <td>1.0</td>\n",
       "      <td>1.0</td>\n",
       "      <td>1.0</td>\n",
       "      <td>1.0</td>\n",
       "      <td>...</td>\n",
       "      <td>1.0</td>\n",
       "      <td>1.0</td>\n",
       "      <td>1.0</td>\n",
       "      <td>1.0</td>\n",
       "      <td>1.0</td>\n",
       "      <td>1.0</td>\n",
       "      <td>1.0</td>\n",
       "      <td>1.0</td>\n",
       "      <td>1.0</td>\n",
       "      <td>1.0</td>\n",
       "    </tr>\n",
       "    <tr>\n",
       "      <td>1</td>\n",
       "      <td>0.0</td>\n",
       "      <td>0.0</td>\n",
       "      <td>0.0</td>\n",
       "      <td>0.0</td>\n",
       "      <td>0.0</td>\n",
       "      <td>0.0</td>\n",
       "      <td>0.0</td>\n",
       "      <td>0.0</td>\n",
       "      <td>0.0</td>\n",
       "      <td>0.0</td>\n",
       "      <td>...</td>\n",
       "      <td>1.0</td>\n",
       "      <td>1.0</td>\n",
       "      <td>1.0</td>\n",
       "      <td>1.0</td>\n",
       "      <td>1.0</td>\n",
       "      <td>1.0</td>\n",
       "      <td>1.0</td>\n",
       "      <td>1.0</td>\n",
       "      <td>1.0</td>\n",
       "      <td>1.0</td>\n",
       "    </tr>\n",
       "    <tr>\n",
       "      <td>2</td>\n",
       "      <td>1.0</td>\n",
       "      <td>1.0</td>\n",
       "      <td>1.0</td>\n",
       "      <td>1.0</td>\n",
       "      <td>1.0</td>\n",
       "      <td>1.0</td>\n",
       "      <td>1.0</td>\n",
       "      <td>1.0</td>\n",
       "      <td>1.0</td>\n",
       "      <td>1.0</td>\n",
       "      <td>...</td>\n",
       "      <td>0.0</td>\n",
       "      <td>0.0</td>\n",
       "      <td>0.0</td>\n",
       "      <td>0.0</td>\n",
       "      <td>0.0</td>\n",
       "      <td>0.0</td>\n",
       "      <td>0.0</td>\n",
       "      <td>0.0</td>\n",
       "      <td>0.0</td>\n",
       "      <td>0.0</td>\n",
       "    </tr>\n",
       "    <tr>\n",
       "      <td>3</td>\n",
       "      <td>1.0</td>\n",
       "      <td>1.0</td>\n",
       "      <td>1.0</td>\n",
       "      <td>1.0</td>\n",
       "      <td>1.0</td>\n",
       "      <td>1.0</td>\n",
       "      <td>1.0</td>\n",
       "      <td>1.0</td>\n",
       "      <td>1.0</td>\n",
       "      <td>1.0</td>\n",
       "      <td>...</td>\n",
       "      <td>0.0</td>\n",
       "      <td>0.0</td>\n",
       "      <td>1.0</td>\n",
       "      <td>1.0</td>\n",
       "      <td>1.0</td>\n",
       "      <td>1.0</td>\n",
       "      <td>1.0</td>\n",
       "      <td>1.0</td>\n",
       "      <td>1.0</td>\n",
       "      <td>1.0</td>\n",
       "    </tr>\n",
       "    <tr>\n",
       "      <td>4</td>\n",
       "      <td>1.0</td>\n",
       "      <td>1.0</td>\n",
       "      <td>1.0</td>\n",
       "      <td>1.0</td>\n",
       "      <td>1.0</td>\n",
       "      <td>1.0</td>\n",
       "      <td>1.0</td>\n",
       "      <td>1.0</td>\n",
       "      <td>1.0</td>\n",
       "      <td>1.0</td>\n",
       "      <td>...</td>\n",
       "      <td>0.0</td>\n",
       "      <td>0.0</td>\n",
       "      <td>0.0</td>\n",
       "      <td>0.0</td>\n",
       "      <td>0.0</td>\n",
       "      <td>0.0</td>\n",
       "      <td>0.0</td>\n",
       "      <td>1.0</td>\n",
       "      <td>1.0</td>\n",
       "      <td>1.0</td>\n",
       "    </tr>\n",
       "    <tr>\n",
       "      <td>...</td>\n",
       "      <td>...</td>\n",
       "      <td>...</td>\n",
       "      <td>...</td>\n",
       "      <td>...</td>\n",
       "      <td>...</td>\n",
       "      <td>...</td>\n",
       "      <td>...</td>\n",
       "      <td>...</td>\n",
       "      <td>...</td>\n",
       "      <td>...</td>\n",
       "      <td>...</td>\n",
       "      <td>...</td>\n",
       "      <td>...</td>\n",
       "      <td>...</td>\n",
       "      <td>...</td>\n",
       "      <td>...</td>\n",
       "      <td>...</td>\n",
       "      <td>...</td>\n",
       "      <td>...</td>\n",
       "      <td>...</td>\n",
       "      <td>...</td>\n",
       "    </tr>\n",
       "    <tr>\n",
       "      <td>2095</td>\n",
       "      <td>0.0</td>\n",
       "      <td>0.0</td>\n",
       "      <td>0.0</td>\n",
       "      <td>0.0</td>\n",
       "      <td>1.0</td>\n",
       "      <td>1.0</td>\n",
       "      <td>1.0</td>\n",
       "      <td>1.0</td>\n",
       "      <td>1.0</td>\n",
       "      <td>1.0</td>\n",
       "      <td>...</td>\n",
       "      <td>0.0</td>\n",
       "      <td>0.0</td>\n",
       "      <td>0.0</td>\n",
       "      <td>0.0</td>\n",
       "      <td>0.0</td>\n",
       "      <td>0.0</td>\n",
       "      <td>0.0</td>\n",
       "      <td>0.0</td>\n",
       "      <td>0.0</td>\n",
       "      <td>0.0</td>\n",
       "    </tr>\n",
       "    <tr>\n",
       "      <td>2096</td>\n",
       "      <td>1.0</td>\n",
       "      <td>1.0</td>\n",
       "      <td>1.0</td>\n",
       "      <td>1.0</td>\n",
       "      <td>1.0</td>\n",
       "      <td>1.0</td>\n",
       "      <td>1.0</td>\n",
       "      <td>1.0</td>\n",
       "      <td>1.0</td>\n",
       "      <td>1.0</td>\n",
       "      <td>...</td>\n",
       "      <td>0.0</td>\n",
       "      <td>0.0</td>\n",
       "      <td>0.0</td>\n",
       "      <td>1.0</td>\n",
       "      <td>1.0</td>\n",
       "      <td>1.0</td>\n",
       "      <td>1.0</td>\n",
       "      <td>1.0</td>\n",
       "      <td>1.0</td>\n",
       "      <td>1.0</td>\n",
       "    </tr>\n",
       "    <tr>\n",
       "      <td>2097</td>\n",
       "      <td>0.0</td>\n",
       "      <td>1.0</td>\n",
       "      <td>0.0</td>\n",
       "      <td>0.0</td>\n",
       "      <td>0.0</td>\n",
       "      <td>1.0</td>\n",
       "      <td>0.0</td>\n",
       "      <td>1.0</td>\n",
       "      <td>0.0</td>\n",
       "      <td>0.0</td>\n",
       "      <td>...</td>\n",
       "      <td>1.0</td>\n",
       "      <td>1.0</td>\n",
       "      <td>1.0</td>\n",
       "      <td>1.0</td>\n",
       "      <td>1.0</td>\n",
       "      <td>1.0</td>\n",
       "      <td>1.0</td>\n",
       "      <td>1.0</td>\n",
       "      <td>1.0</td>\n",
       "      <td>1.0</td>\n",
       "    </tr>\n",
       "    <tr>\n",
       "      <td>2098</td>\n",
       "      <td>1.0</td>\n",
       "      <td>1.0</td>\n",
       "      <td>1.0</td>\n",
       "      <td>1.0</td>\n",
       "      <td>1.0</td>\n",
       "      <td>1.0</td>\n",
       "      <td>1.0</td>\n",
       "      <td>1.0</td>\n",
       "      <td>1.0</td>\n",
       "      <td>1.0</td>\n",
       "      <td>...</td>\n",
       "      <td>0.0</td>\n",
       "      <td>0.0</td>\n",
       "      <td>0.0</td>\n",
       "      <td>0.0</td>\n",
       "      <td>0.0</td>\n",
       "      <td>0.0</td>\n",
       "      <td>1.0</td>\n",
       "      <td>1.0</td>\n",
       "      <td>1.0</td>\n",
       "      <td>1.0</td>\n",
       "    </tr>\n",
       "    <tr>\n",
       "      <td>2099</td>\n",
       "      <td>1.0</td>\n",
       "      <td>1.0</td>\n",
       "      <td>1.0</td>\n",
       "      <td>1.0</td>\n",
       "      <td>1.0</td>\n",
       "      <td>1.0</td>\n",
       "      <td>1.0</td>\n",
       "      <td>1.0</td>\n",
       "      <td>1.0</td>\n",
       "      <td>1.0</td>\n",
       "      <td>...</td>\n",
       "      <td>1.0</td>\n",
       "      <td>1.0</td>\n",
       "      <td>1.0</td>\n",
       "      <td>1.0</td>\n",
       "      <td>1.0</td>\n",
       "      <td>1.0</td>\n",
       "      <td>1.0</td>\n",
       "      <td>1.0</td>\n",
       "      <td>1.0</td>\n",
       "      <td>1.0</td>\n",
       "    </tr>\n",
       "  </tbody>\n",
       "</table>\n",
       "<p>2100 rows × 6816 columns</p>\n",
       "</div>"
      ],
      "text/plain": [
       "      0     1     2     3     4     5     6     7     8     9     ...  6806  \\\n",
       "0      1.0   1.0   1.0   1.0   1.0   1.0   1.0   1.0   1.0   1.0  ...   1.0   \n",
       "1      0.0   0.0   0.0   0.0   0.0   0.0   0.0   0.0   0.0   0.0  ...   1.0   \n",
       "2      1.0   1.0   1.0   1.0   1.0   1.0   1.0   1.0   1.0   1.0  ...   0.0   \n",
       "3      1.0   1.0   1.0   1.0   1.0   1.0   1.0   1.0   1.0   1.0  ...   0.0   \n",
       "4      1.0   1.0   1.0   1.0   1.0   1.0   1.0   1.0   1.0   1.0  ...   0.0   \n",
       "...    ...   ...   ...   ...   ...   ...   ...   ...   ...   ...  ...   ...   \n",
       "2095   0.0   0.0   0.0   0.0   1.0   1.0   1.0   1.0   1.0   1.0  ...   0.0   \n",
       "2096   1.0   1.0   1.0   1.0   1.0   1.0   1.0   1.0   1.0   1.0  ...   0.0   \n",
       "2097   0.0   1.0   0.0   0.0   0.0   1.0   0.0   1.0   0.0   0.0  ...   1.0   \n",
       "2098   1.0   1.0   1.0   1.0   1.0   1.0   1.0   1.0   1.0   1.0  ...   0.0   \n",
       "2099   1.0   1.0   1.0   1.0   1.0   1.0   1.0   1.0   1.0   1.0  ...   1.0   \n",
       "\n",
       "      6807  6808  6809  6810  6811  6812  6813  6814  6815  \n",
       "0      1.0   1.0   1.0   1.0   1.0   1.0   1.0   1.0   1.0  \n",
       "1      1.0   1.0   1.0   1.0   1.0   1.0   1.0   1.0   1.0  \n",
       "2      0.0   0.0   0.0   0.0   0.0   0.0   0.0   0.0   0.0  \n",
       "3      0.0   1.0   1.0   1.0   1.0   1.0   1.0   1.0   1.0  \n",
       "4      0.0   0.0   0.0   0.0   0.0   0.0   1.0   1.0   1.0  \n",
       "...    ...   ...   ...   ...   ...   ...   ...   ...   ...  \n",
       "2095   0.0   0.0   0.0   0.0   0.0   0.0   0.0   0.0   0.0  \n",
       "2096   0.0   0.0   1.0   1.0   1.0   1.0   1.0   1.0   1.0  \n",
       "2097   1.0   1.0   1.0   1.0   1.0   1.0   1.0   1.0   1.0  \n",
       "2098   0.0   0.0   0.0   0.0   0.0   1.0   1.0   1.0   1.0  \n",
       "2099   1.0   1.0   1.0   1.0   1.0   1.0   1.0   1.0   1.0  \n",
       "\n",
       "[2100 rows x 6816 columns]"
      ]
     },
     "execution_count": 17,
     "metadata": {},
     "output_type": "execute_result"
    }
   ],
   "source": [
    "sign_correlation_total"
   ]
  },
  {
   "cell_type": "code",
   "execution_count": 18,
   "metadata": {},
   "outputs": [
    {
     "data": {
      "image/png": "[encoded data removed]",
      "text/plain": [
       "<Figure size 1440x720 with 2 Axes>"
      ]
     },
     "metadata": {
      "needs_background": "light"
     },
     "output_type": "display_data"
    }
   ],
   "source": [
    "para = sign_correlation_total.mean().values.reshape(71,96)\n",
    "amin = np.amin(para)\n",
    "amax = np.amax(para)\n",
    "matplotlib.rcParams['figure.figsize'] = (20.0, 10.0)\n",
    "fig = plt.figure()\n",
    "\n",
    "colors = [\"#7b241c\", \"#a93226\", \"#cd6155\", \"#e6b0aa\", \"#f9ebea\", \"#e9f7ef\", \"#a9dfbf\", \"#52be80\", \"#229954\", \"#145a32\"]\n",
    "cmap= matplotlib.colors.ListedColormap(colors)\n",
    "norm= matplotlib.colors.Normalize(vmin=0,vmax=1)\n",
    "\n",
    "plt.pcolor(long, lat, para,  cmap=cmap, vmin=0, vmax=1, norm=norm)\n",
    "plt.tight_layout()\n",
    "cbar = plt.colorbar()"
   ]
  },
  {
   "cell_type": "code",
   "execution_count": 19,
   "metadata": {},
   "outputs": [
    {
     "data": {
      "text/plain": [
       "124649"
      ]
     },
     "execution_count": 19,
     "metadata": {},
     "output_type": "execute_result"
    }
   ],
   "source": [
    "file = open(\"sign_correlation_ann_pca.txt\", \"w\")\n",
    "dump = \"\\n\".join(para.reshape(71*96).astype(str).tolist())\n",
    "file.write(dump)"
   ]
  },
  {
   "cell_type": "code",
   "execution_count": 20,
   "metadata": {},
   "outputs": [],
   "source": [
    "pred_list = copy.deepcopy(pred)\n",
    "test_list = copy.deepcopy(do18_test)"
   ]
  },
  {
   "cell_type": "code",
   "execution_count": 21,
   "metadata": {},
   "outputs": [],
   "source": [
    "for i in range(15):\n",
    "    pred_pc, pred_norm, pred, Y_test, do18_test_scaler, do18_test = ann_pca(temp, precip, do18, n_temp=20, n_precip=20, n_y=20)\n",
    "    pred_list = pred_list.append(pred)\n",
    "    test_list = test_list.append(do18_test)\n",
    "pred_list = pred_list.reset_index(drop=True)\n",
    "test_list = test_list.reset_index(drop=True)"
   ]
  },
  {
   "cell_type": "code",
   "execution_count": 23,
   "metadata": {},
   "outputs": [],
   "source": [
    "rmse_geolist = []\n",
    "for pixel in test_list.columns.values:\n",
    "    rmse_pixel = mean_squared_error(pred_list[pixel].values, test_list[pixel].values, squared=False)\n",
    "    rmse_geolist.append(rmse_pixel)\n",
    "df_rmse_geolist = pd.DataFrame(np.asarray(rmse_geolist).reshape(71,96))"
   ]
  },
  {
   "cell_type": "code",
   "execution_count": 24,
   "metadata": {},
   "outputs": [
    {
     "data": {
      "image/png": "[encoded data removed]",
      "text/plain": [
       "<Figure size 1440x720 with 2 Axes>"
      ]
     },
     "metadata": {
      "needs_background": "light"
     },
     "output_type": "display_data"
    }
   ],
   "source": [
    "para = df_rmse_geolist.values\n",
    "\n",
    "matplotlib.rcParams['figure.figsize'] = (20.0, 10.0)\n",
    "fig = plt.figure()\n",
    "\n",
    "colors = [\"#f2d7d5\", \"#e6b0aa\", \"#d98880\", \"#cd6155\", \"#a93226\", \"#7b241c\", \"#d68910\"]\n",
    "bounds = [0.2, 0.3, 0.5, 0.7, 1, 1.5, 2, 3]\n",
    "cmap= matplotlib.colors.ListedColormap(colors)\n",
    "cmap.set_under(\"#ffffff\")\n",
    "cmap.set_over(\"#f7dc6f\")\n",
    "norm = matplotlib.colors.BoundaryNorm(bounds, cmap.N)\n",
    "\n",
    "layer = plt.pcolor(\n",
    "    long, lat, \n",
    "    para, \n",
    "    cmap=cmap, \n",
    "    vmin=0.1, vmax=3, norm=norm\n",
    ")\n",
    "plt.tight_layout()\n",
    "\n",
    "cbar = plt.colorbar(\n",
    "    layer,\n",
    "    extend=\"both\", \n",
    "    ticks=bounds, \n",
    "    spacing='proportional'\n",
    ")"
   ]
  },
  {
   "cell_type": "code",
   "execution_count": 25,
   "metadata": {},
   "outputs": [
    {
     "data": {
      "text/plain": [
       "129780"
      ]
     },
     "execution_count": 25,
     "metadata": {},
     "output_type": "execute_result"
    }
   ],
   "source": [
    "file = open(\"rmse_ann_pca.txt\", \"w\")\n",
    "dump = \"\\n\".join(para.reshape(71*96).astype(str).tolist())\n",
    "file.write(dump)"
   ]
  },
  {
   "cell_type": "code",
   "execution_count": 26,
   "metadata": {},
   "outputs": [],
   "source": [
    "std = pd.DataFrame(do18.std().values.reshape(71,96))"
   ]
  },
  {
   "cell_type": "code",
   "execution_count": 27,
   "metadata": {},
   "outputs": [
    {
     "data": {
      "image/png": "[encoded data removed]",
      "text/plain": [
       "<Figure size 1440x720 with 2 Axes>"
      ]
     },
     "metadata": {
      "needs_background": "light"
     },
     "output_type": "display_data"
    }
   ],
   "source": [
    "para = df_rmse_geolist/std -1\n",
    "\n",
    "matplotlib.rcParams['figure.figsize'] = (20.0, 10.0)\n",
    "fig = plt.figure()\n",
    "\n",
    "colors = [\"#145a32\", \"#229954\", \"#52be80\", \"#a9dfbf\",  \"#e9f7ef\", \"#f9ebea\", \"#e6b0aa\", \"#cd6155\", \"#a93226\", \"#7b241c\"]\n",
    "bounds = [-1, -0.8, -0.6, -0.4, -0.2, 0, 0.2, 0.4, 0.6, 0.8, 1] \n",
    "cmap= matplotlib.colors.ListedColormap(colors)\n",
    "norm = matplotlib.colors.BoundaryNorm(bounds, cmap.N)\n",
    "\n",
    "layer = plt.pcolor(\n",
    "    long, lat, para, \n",
    "    cmap=cmap,\n",
    "    vmin=-1, vmax=1, \n",
    "    norm=norm\n",
    ")\n",
    "plt.tight_layout()\n",
    "\n",
    "cbar = plt.colorbar(\n",
    "    layer,\n",
    "    ticks=bounds, \n",
    "    spacing='proportional'\n",
    ")"
   ]
  },
  {
   "cell_type": "code",
   "execution_count": 28,
   "metadata": {},
   "outputs": [
    {
     "data": {
      "text/plain": [
       "142302"
      ]
     },
     "execution_count": 28,
     "metadata": {},
     "output_type": "execute_result"
    }
   ],
   "source": [
    "file = open(\"rmse_norm_ann_pca.txt\", \"w\")\n",
    "dump = \"\\n\".join((df_rmse_geolist/std -1).values.reshape(71*96).astype(str).tolist())\n",
    "file.write(dump)"
   ]
  },
  {
   "cell_type": "code",
   "execution_count": null,
   "metadata": {},
   "outputs": [],
   "source": []
  }
 ],
 "metadata": {
  "kernelspec": {
   "display_name": "Python 3",
   "language": "python",
   "name": "python3"
  },
  "language_info": {
   "codemirror_mode": {
    "name": "ipython",
    "version": 3
   },
   "file_extension": ".py",
   "mimetype": "text/x-python",
   "name": "python",
   "nbconvert_exporter": "python",
   "pygments_lexer": "ipython3",
   "version": "3.7.4"
  }
 },
 "nbformat": 4,
 "nbformat_minor": 2
}
