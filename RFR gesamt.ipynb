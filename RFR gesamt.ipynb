{
 "cells": [
  {
   "cell_type": "code",
   "execution_count": 1,
   "metadata": {},
   "outputs": [],
   "source": [
    "import numpy as np\n",
    "import matplotlib\n",
    "import matplotlib.pyplot as plt\n",
    "from netCDF4 import Dataset\n",
    "\n",
    "import matplotlib.image as mpimg\n",
    "from matplotlib import cm\n",
    "import matplotlib.animation as ani\n",
    "from scipy.integrate import odeint\n",
    "import pandas as pd\n",
    "import copy\n",
    "\n",
    "from sklearn.ensemble import RandomForestRegressor\n",
    "\n",
    "from sklearn.decomposition import PCA\n",
    "from sklearn.preprocessing import StandardScaler\n",
    "from sklearn.metrics import mean_absolute_error\n",
    "from sklearn.metrics import mean_squared_error\n",
    "\n",
    "%matplotlib inline"
   ]
  },
  {
   "cell_type": "code",
   "execution_count": 2,
   "metadata": {},
   "outputs": [],
   "source": [
    "isotopes = Dataset('climatology/xnapa_isotopes.nc', \"a\")\n",
    "precipitation = Dataset('climatology/xnapa_precip.nc', \"a\")\n",
    "surface_temperature = Dataset('climatology/xnapa_temp.nc', \"a\")"
   ]
  },
  {
   "cell_type": "code",
   "execution_count": 3,
   "metadata": {},
   "outputs": [],
   "source": [
    "lat = isotopes.variables[\"latitude\"][:].data[1:-1]\n",
    "long = isotopes.variables[\"longitude\"][:].data\n",
    "t = isotopes.variables[\"t\"][:].data\n",
    "\n",
    "trash = [626, 0]"
   ]
  },
  {
   "cell_type": "code",
   "execution_count": 4,
   "metadata": {},
   "outputs": [],
   "source": [
    "do18 = []\n",
    "precip = []\n",
    "temp = []\n",
    "for i in range(len(t)):\n",
    "    do18.append(isotopes.variables[\"dO18\"][i][0].data[1:-1].reshape(71*96))\n",
    "    precip.append(precipitation.variables[\"precip\"][i][0].data[1:-1].reshape(71*96))\n",
    "    temp.append(surface_temperature.variables[\"temp_1\"][i][0].data[1:-1].reshape(71*96))\n",
    "    \n",
    "do18 = pd.DataFrame(np.delete(np.delete(np.asarray(do18), 0, 0), 626, 0)[:1000])\n",
    "precip = pd.DataFrame(np.delete(np.delete(np.asarray(precip), 0, 0), 626, 0)[:1000])\n",
    "temp = pd.DataFrame(np.delete(np.delete(np.asarray(temp), 0, 0), 626, 0)[:1000])"
   ]
  },
  {
   "cell_type": "code",
   "execution_count": 5,
   "metadata": {},
   "outputs": [],
   "source": [
    "def rfr(temp, precip, do18, train_proportion=0.9, random=True):\n",
    "    \n",
    "    if random:\n",
    "        random_idx = np.random.permutation(do18.index.values)\n",
    "    \n",
    "        temp = temp.reindex(random_idx)\n",
    "        precip = precip.reindex(random_idx)\n",
    "        do18 = do18.reindex(random_idx)\n",
    "    \n",
    "    #divide training and test data\n",
    "    do18_train = do18[:int(np.floor(train_proportion*len(do18)))].reset_index(drop=True)\n",
    "    do18_test = do18[int(np.floor(train_proportion*len(do18))):].reset_index(drop=True)\n",
    "\n",
    "    temp_train = temp[:int(np.floor(train_proportion*len(temp)))].reset_index(drop=True)\n",
    "    temp_test = temp[int(np.floor(train_proportion*len(temp))):].reset_index(drop=True)\n",
    "\n",
    "    precip_train = precip[:int(np.floor(train_proportion*len(precip)))].reset_index(drop=True)\n",
    "    precip_test = precip[int(np.floor(train_proportion*len(precip))):].reset_index(drop=True)\n",
    "    \n",
    "    \n",
    "    X_train = np.append(temp_train, precip_train, axis=1)\n",
    "    X_test = np.append(temp_test, precip_test, axis=1)\n",
    "\n",
    "    Y_train = do18_train\n",
    "    Y_test = pd.DataFrame(do18_test)\n",
    "    \n",
    "    Y = pd.DataFrame(np.append(Y_train, Y_test, axis=0))\n",
    "    \n",
    "    print(\"training...\")\n",
    "    #train model\n",
    "    regressor = RandomForestRegressor().fit(X_train, Y_train)\n",
    "    \n",
    "    print(\"predicting...\")\n",
    "    #predict test data\n",
    "    pred = pd.DataFrame(regressor.predict(X_test))\n",
    "    \n",
    "    \n",
    "    #return pca and final data\n",
    "    return pred, Y_test"
   ]
  },
  {
   "cell_type": "code",
   "execution_count": null,
   "metadata": {},
   "outputs": [
    {
     "name": "stdout",
     "output_type": "stream",
     "text": [
      "training...\n"
     ]
    }
   ],
   "source": [
    "pred, Y_test = rfr(temp, precip, do18)"
   ]
  },
  {
   "cell_type": "code",
   "execution_count": null,
   "metadata": {},
   "outputs": [],
   "source": []
  }
 ],
 "metadata": {
  "kernelspec": {
   "display_name": "Python 3",
   "language": "python",
   "name": "python3"
  },
  "language_info": {
   "codemirror_mode": {
    "name": "ipython",
    "version": 3
   },
   "file_extension": ".py",
   "mimetype": "text/x-python",
   "name": "python",
   "nbconvert_exporter": "python",
   "pygments_lexer": "ipython3",
   "version": "3.7.4"
  }
 },
 "nbformat": 4,
 "nbformat_minor": 2
}
